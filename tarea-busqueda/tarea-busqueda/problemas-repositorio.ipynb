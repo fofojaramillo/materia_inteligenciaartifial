{
 "cells": [
  {
   "attachments": {},
   "cell_type": "markdown",
   "metadata": {},
   "source": [
    "**Para la tarea:** Modela el juego de las torres de Hanói como un problema de búsqueda."
   ]
  },
  {
   "attachments": {},
   "cell_type": "markdown",
   "metadata": {},
   "source": [
    "Para las torres de Hanoi podemos pensar en cada disco siendo representado por una letra, siendo `A` el disco más grande, y `G` el más chico. A su ves pensando en `/` como el espacio entre cada disco.\n",
    "Así, el estado inicial: `ABCDEFG//`\n",
    "\n",
    "Conjunto de todas las acciones consiste en solo dos: [x>,x>>]\n",
    "La letra \"x\" representa a cualquier letra que se desee mover (por lo que en una escritura menos general serían 14 movimientos), mientras que \">\" y \">>\" representan el moverse a la primera torre vecina hacia la derecha y a la segunda respectivamente. Si el disco no tuviera vecino hacia la derecha, por ejemplo, si estuviera en la torre más a la derecha y tuviera la acción \"x>\" iría a la primer torre, si tuviera la accion \"x>>\" llegaría a la de enmedio, y así.\n",
    "\n",
    "El costo de cada acción será unitario.\n",
    "\n",
    "El sucesor al que se llega con cada acción sería una distribución de letras y diagonales un poco diferente, variando en una letra en cada caso. por ejemplo:\n",
    "\n",
    "`ABCDEFG//` $\\rightarrow$ `G>` $\\rightarrow$ `ABCDEF/G/`\n",
    "\n",
    "Se llega a un estado final cuando Todas las letras estan juntas y en orden alfabetico.\n",
    "***"
   ]
  },
  {
   "attachments": {},
   "cell_type": "markdown",
   "metadata": {},
   "source": [
    "**Para la tarea:** Escribe un programa de Python que genere un tablero de Sudoku resuelto de forma aleatoria de tamaño $9\\times9$.  No busques algoritmos para lograr esto, en su lugar, plantea una idea clave para resolver el problema y asegúrate que tu implementación sea lo más clara y entendible que puedas."
   ]
  },
  {
   "cell_type": "code",
   "execution_count": 9,
   "metadata": {},
   "outputs": [],
   "source": [
    "import random\n",
    "import numpy as np"
   ]
  },
  {
   "cell_type": "code",
   "execution_count": null,
   "metadata": {},
   "outputs": [],
   "source": [
    "import random, numpy as np\n",
    "\n",
    "def initial_board():\n",
    "    board = [[5,3,0,0,7,0,0,0,0],\n",
    "             [6,0,0,1,9,5,0,0,0],\n",
    "             [0,9,8,0,0,0,0,6,0],\n",
    "             [8,0,0,0,6,0,0,0,3],\n",
    "             [4,0,0,8,0,3,0,0,1],\n",
    "             [7,0,0,0,2,0,0,0,6],\n",
    "             [0,6,0,0,0,0,2,8,0],\n",
    "             [0,0,0,4,1,9,0,0,5],\n",
    "             [0,0,0,0,8,0,0,7,9]]\n",
    "    return board\n",
    "\n",
    "def is_valid_move(board, row, col, n):\n",
    "    \n",
    "    # Comprobar fila y columna\n",
    "    if any(board[col][i] == n for i in range(9)):\n",
    "        return False\n",
    "    if any(board[i][row] == n for i in range(9)):\n",
    "        return False\n",
    "\n",
    "    # Comprobar subcuadrícula\n",
    "    subrow_start = (row // 3) * 3\n",
    "    subcol_start = (col // 3) * 3\n",
    "    \n",
    "    if any(board[subcol_start + i][subrow_start + j] == n\n",
    "           for i in range(3) for j in range(3)):\n",
    "        return False\n",
    "    \n",
    "    return True\n",
    "\n",
    "def solver(board):\n",
    "    for col in range(9):\n",
    "        for row in range(9):\n",
    "            if board[col][row] == 0:\n",
    "                for n in range(1, 10):\n",
    "                    if is_valid_move(board, row, col, n):\n",
    "                        board[col][row] = n\n",
    "                        solver(board)\n",
    "                        board[col][row] = 0\n",
    "                return\n",
    "    print(np.matrix(board))"
   ]
  },
  {
   "cell_type": "code",
   "execution_count": 59,
   "metadata": {},
   "outputs": [],
   "source": [
    "def board():\n",
    "    numbers = list(range(1,10))\n",
    "    return [random.sample(numbers, 9) for _ in range(9)]"
   ]
  },
  {
   "cell_type": "code",
   "execution_count": 76,
   "metadata": {},
   "outputs": [],
   "source": [
    "def show(board):\n",
    "    print(np.matrix(board))"
   ]
  },
  {
   "attachments": {},
   "cell_type": "markdown",
   "metadata": {},
   "source": [
    "***\n",
    "**Para la tarea:** Escribe una implementación de `backtrackingSearch` que sea funcionalmente equivalente a la implementación de arriba sin utilizar variables fuera del ámbito local de una función."
   ]
  },
  {
   "cell_type": "code",
   "execution_count": 79,
   "metadata": {},
   "outputs": [],
   "source": [
    "class TransportationProblem(object):\n",
    "    def __init__(self, n):\n",
    "        self.n = n\n",
    "    \n",
    "    def initialState(self):\n",
    "        return 1\n",
    "    \n",
    "    def isEnd(self, state):\n",
    "        return state == self.n\n",
    "    \n",
    "    def actions(self, state):\n",
    "        moves = []\n",
    "        if state + 1 <= self.n:\n",
    "            moves.append('walk')\n",
    "        if state * 2 <= self.n:\n",
    "            moves.append('tram')\n",
    "        return moves\n",
    "    \n",
    "    def cost(self, state, action):\n",
    "        if action == 'walk':\n",
    "            return 1\n",
    "        if action == 'tram':\n",
    "            return 2\n",
    "    \n",
    "    def successor(self, state, action):\n",
    "        if action == 'walk':\n",
    "            return state + 1\n",
    "        if action == 'tram':\n",
    "            return state * 2"
   ]
  },
  {
   "cell_type": "code",
   "execution_count": 80,
   "metadata": {},
   "outputs": [],
   "source": [
    "def edges(problem, state):\n",
    "    return [\n",
    "        (action,\n",
    "         problem.successor(state, action),\n",
    "         problem.cost(state, action))\n",
    "        for action in problem.actions(state)\n",
    "    ]"
   ]
  },
  {
   "cell_type": "code",
   "execution_count": 97,
   "metadata": {},
   "outputs": [],
   "source": [
    "problem  = TransportationProblem(n=100)"
   ]
  },
  {
   "cell_type": "code",
   "execution_count": 94,
   "metadata": {},
   "outputs": [],
   "source": [
    "def backtrackingSearch(problem):\n",
    "    def findBest(state, path, cost, bestCost, bestPath):\n",
    "        if problem.isEnd(state):\n",
    "            if cost < bestCost:\n",
    "                bestCost = cost\n",
    "                bestPath = path\n",
    "            return bestCost, bestPath\n",
    "        for action, next_state, next_cost in edges(problem, state):\n",
    "            new_path = path + [(action, next_state, next_cost)]\n",
    "            new_cost = cost + next_cost\n",
    "            bestCost, bestPath = findBest(next_state, new_path, new_cost, bestCost, bestPath)\n",
    "        return bestCost, bestPath\n",
    "    initial_state = problem.initialState()\n",
    "    bestCost, bestPath = findBest(initial_state, [], 0, float('+inf'), None)\n",
    "    return bestCost, bestPath"
   ]
  },
  {
   "cell_type": "code",
   "execution_count": 95,
   "metadata": {},
   "outputs": [
    {
     "data": {
      "text/plain": [
       "(6,\n",
       " [('walk', 2, 1),\n",
       "  ('walk', 3, 1),\n",
       "  ('walk', 4, 1),\n",
       "  ('walk', 5, 1),\n",
       "  ('tram', 10, 2)])"
      ]
     },
     "execution_count": 95,
     "metadata": {},
     "output_type": "execute_result"
    }
   ],
   "source": [
    "backtrackingSearch(problem)"
   ]
  },
  {
   "attachments": {},
   "cell_type": "markdown",
   "metadata": {},
   "source": [
    "**Para la tarea:** Observa que tanto la implementación de `futureCosts` como de `dynamicProgramming` iteran sobre las aristas del estado actual. Programa una mejor implementación combinando las ideas de ambas funciones."
   ]
  },
  {
   "cell_type": "code",
   "execution_count": 96,
   "metadata": {},
   "outputs": [],
   "source": [
    "def dynamicProgramming(problem, C):\n",
    "    state = problem.initialState()\n",
    "    bestCost = C[state]\n",
    "    bestPath = []\n",
    "    while not problem.isEnd(state):\n",
    "        for action, next_state, next_cost in edges(problem, state):\n",
    "            if C[state] == next_cost + C[next_state]:\n",
    "                bestPath.append((action, next_state, next_cost))\n",
    "                state = next_state\n",
    "                break\n",
    "    return bestCost, bestPath\n",
    "\n",
    "\n",
    "def futureCosts(problem):\n",
    "    C = {}\n",
    "    def futureCost(state):\n",
    "        if state in C:\n",
    "            return C[state]\n",
    "        if problem.isEnd(state):\n",
    "            C[state] = 0\n",
    "        else:\n",
    "            C[state] = min(next_cost + futureCost(next_state)\n",
    "                           for action, next_state, next_cost\n",
    "                           in edges(problem, state))\n",
    "        return C[state]\n",
    "    futureCost(problem.initialState())\n",
    "    return C"
   ]
  },
  {
   "cell_type": "code",
   "execution_count": 101,
   "metadata": {},
   "outputs": [],
   "source": [
    "def dynamicProgrammingUpgrade(problem):\n",
    "    C = {}\n",
    "    bestPath = []\n",
    "\n",
    "    def futureCost(state):\n",
    "        if state in C:\n",
    "            return C[state]\n",
    "        if problem.isEnd(state):\n",
    "            C[state] = 0\n",
    "        else:\n",
    "            C[state] = min(next_cost + futureCost(next_state)\n",
    "                           for action, next_state, next_cost\n",
    "                           in edges(problem, state))\n",
    "        return C[state]\n",
    "\n",
    "    state = problem.initialState()\n",
    "    bestCost = futureCost(state)\n",
    "    bestPath = []\n",
    "    while not problem.isEnd(state):\n",
    "        for action, next_state, next_cost in edges(problem, state):\n",
    "            if C[state] == next_cost + C[next_state]:\n",
    "                bestPath.append((action, next_state, next_cost))\n",
    "                state = next_state\n",
    "                break\n",
    "    return bestCost, bestPath"
   ]
  },
  {
   "cell_type": "code",
   "execution_count": 102,
   "metadata": {},
   "outputs": [
    {
     "name": "stdout",
     "output_type": "stream",
     "text": [
      "(13, [('walk', 2, 1), ('walk', 3, 1), ('tram', 6, 2), ('tram', 12, 2), ('tram', 24, 2), ('walk', 25, 1), ('tram', 50, 2), ('tram', 100, 2)])\n",
      "\n",
      "9.89 ms ± 0 ns per loop (mean ± std. dev. of 1 run, 1 loop each)\n"
     ]
    }
   ],
   "source": [
    "%%timeit -r 1 -n 1\n",
    "print(dynamicProgrammingUpgrade(problem))\n",
    "print()"
   ]
  },
  {
   "attachments": {},
   "cell_type": "markdown",
   "metadata": {},
   "source": [
    "**Para la tarea:** ¿Por qué el algoritmo de Dijkstra no puede trabajar con pesos negativos? ¿Qué pasa si le sumamos a todos los pesos el peso mínimo de la gráfica? Presenta una gráfica dirigida ponderada en donde esta \"solución\" no funciona."
   ]
  }
 ],
 "metadata": {
  "kernelspec": {
   "display_name": "Python 3",
   "language": "python",
   "name": "python3"
  },
  "language_info": {
   "codemirror_mode": {
    "name": "ipython",
    "version": 3
   },
   "file_extension": ".py",
   "mimetype": "text/x-python",
   "name": "python",
   "nbconvert_exporter": "python",
   "pygments_lexer": "ipython3",
   "version": "3.11.0"
  },
  "orig_nbformat": 4
 },
 "nbformat": 4,
 "nbformat_minor": 2
}
