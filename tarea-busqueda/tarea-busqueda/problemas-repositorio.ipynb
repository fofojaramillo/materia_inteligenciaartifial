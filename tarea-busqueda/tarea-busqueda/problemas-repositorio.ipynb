{
 "cells": [
  {
   "attachments": {},
   "cell_type": "markdown",
   "metadata": {},
   "source": [
    "**Para la tarea:** Modela el juego de las torres de Hanói como un problema de búsqueda."
   ]
  },
  {
   "attachments": {},
   "cell_type": "markdown",
   "metadata": {},
   "source": [
    "Para las torres de Hanoi podemos pensar en cada disco siendo representado por una letra, siendo `A` el disco más grande, y `G` el más chico. A su ves pensando en `/` como el espacio entre cada disco.\n",
    "Así, el estado inicial: `ABCDEFG//`\n",
    "\n",
    "Conjunto de todas las acciones consiste en solo dos: [x>,x>>]\n",
    "La letra \"x\" representa a cualquier letra que se desee mover (por lo que en una escritura menos general serían 14 movimientos), mientras que \">\" y \">>\" representan el moverse a la primera torre vecina hacia la derecha y a la segunda respectivamente. Si el disco no tuviera vecino hacia la derecha, por ejemplo, si estuviera en la torre más a la derecha y tuviera la acción \"x>\" iría a la primer torre, si tuviera la accion \"x>>\" llegaría a la de enmedio, y así.\n",
    "\n",
    "El costo de cada acción será unitario.\n",
    "\n",
    "El sucesor al que se llega con cada acción sería una distribución de letras y diagonales un poco diferente, variando en una letra en cada caso. por ejemplo:\n",
    "\n",
    "`ABCDEFG//` $\\rightarrow$ `G>` $\\rightarrow$ `ABCDEF/G/`\n",
    "\n",
    "Se llega a un estado final cuando Todas las letras estan juntas y en orden alfabetico.\n",
    "***"
   ]
  },
  {
   "attachments": {},
   "cell_type": "markdown",
   "metadata": {},
   "source": [
    "**Para la tarea:** Escribe un programa de Python que genere un tablero de Sudoku resuelto de forma aleatoria de tamaño $9\\times9$.  No busques algoritmos para lograr esto, en su lugar, plantea una idea clave para resolver el problema y asegúrate que tu implementación sea lo más clara y entendible que puedas."
   ]
  },
  {
   "cell_type": "code",
   "execution_count": 6,
   "metadata": {},
   "outputs": [],
   "source": [
    "import random\n",
    "import numpy as np"
   ]
  },
  {
   "cell_type": "code",
   "execution_count": 7,
   "metadata": {},
   "outputs": [],
   "source": [
    "def initial_board():\n",
    "    return np.zeros((9,9), dtype = int)"
   ]
  },
  {
   "cell_type": "code",
   "execution_count": 8,
   "metadata": {},
   "outputs": [],
   "source": [
    "def is_valid(board, row, col, number):\n",
    "        for i in range(9):\n",
    "            if board[row][i] == number or board[i][col] == number:\n",
    "                return False\n",
    "        box_row = row - row % 3\n",
    "        box_col = col - col % 3\n",
    "        for i in range(box_row, box_row+3):\n",
    "            for j in range(box_col, box_col+3):\n",
    "                if board[i][j] == number:\n",
    "                    return False\n",
    "        return True"
   ]
  },
  {
   "cell_type": "code",
   "execution_count": 9,
   "metadata": {},
   "outputs": [],
   "source": [
    "\n",
    "def backtrack(board):\n",
    "    numbers = [i for i in range(1,10)]\n",
    "    for row in range(9):\n",
    "        for col in range(9):\n",
    "            if board[row][col] == 0:\n",
    "                random.shuffle(numbers)\n",
    "                for number in numbers:\n",
    "                    if is_valid(board, row, col, number):\n",
    "                        board[row][col] = number\n",
    "                        if backtrack(board):\n",
    "                            return True\n",
    "                        board[row][col] = 0\n",
    "                return False\n",
    "    return True"
   ]
  },
  {
   "cell_type": "code",
   "execution_count": 10,
   "metadata": {},
   "outputs": [],
   "source": [
    "def solved_board():\n",
    "    board = initial_board()\n",
    "    backtrack(board)\n",
    "    print(np.matrix(board))"
   ]
  },
  {
   "cell_type": "code",
   "execution_count": 11,
   "metadata": {},
   "outputs": [
    {
     "name": "stdout",
     "output_type": "stream",
     "text": [
      "[[4 3 5 2 7 1 8 9 6]\n",
      " [8 9 7 3 6 5 4 2 1]\n",
      " [2 6 1 4 8 9 3 5 7]\n",
      " [3 1 9 6 4 7 5 8 2]\n",
      " [6 4 8 9 5 2 1 7 3]\n",
      " [5 7 2 1 3 8 6 4 9]\n",
      " [1 8 4 7 2 6 9 3 5]\n",
      " [9 2 3 5 1 4 7 6 8]\n",
      " [7 5 6 8 9 3 2 1 4]]\n"
     ]
    }
   ],
   "source": [
    "solved_board()"
   ]
  },
  {
   "attachments": {},
   "cell_type": "markdown",
   "metadata": {},
   "source": [
    "***\n",
    "**Para la tarea:** Escribe una implementación de `backtrackingSearch` que sea funcionalmente equivalente a la implementación de arriba sin utilizar variables fuera del ámbito local de una función."
   ]
  },
  {
   "cell_type": "code",
   "execution_count": 79,
   "metadata": {},
   "outputs": [],
   "source": [
    "class TransportationProblem(object):\n",
    "    def __init__(self, n):\n",
    "        self.n = n\n",
    "    \n",
    "    def initialState(self):\n",
    "        return 1\n",
    "    \n",
    "    def isEnd(self, state):\n",
    "        return state == self.n\n",
    "    \n",
    "    def actions(self, state):\n",
    "        moves = []\n",
    "        if state + 1 <= self.n:\n",
    "            moves.append('walk')\n",
    "        if state * 2 <= self.n:\n",
    "            moves.append('tram')\n",
    "        return moves\n",
    "    \n",
    "    def cost(self, state, action):\n",
    "        if action == 'walk':\n",
    "            return 1\n",
    "        if action == 'tram':\n",
    "            return 2\n",
    "    \n",
    "    def successor(self, state, action):\n",
    "        if action == 'walk':\n",
    "            return state + 1\n",
    "        if action == 'tram':\n",
    "            return state * 2"
   ]
  },
  {
   "cell_type": "code",
   "execution_count": 80,
   "metadata": {},
   "outputs": [],
   "source": [
    "def edges(problem, state):\n",
    "    return [\n",
    "        (action,\n",
    "         problem.successor(state, action),\n",
    "         problem.cost(state, action))\n",
    "        for action in problem.actions(state)\n",
    "    ]"
   ]
  },
  {
   "cell_type": "code",
   "execution_count": 97,
   "metadata": {},
   "outputs": [],
   "source": [
    "problem  = TransportationProblem(n=100)"
   ]
  },
  {
   "cell_type": "code",
   "execution_count": 94,
   "metadata": {},
   "outputs": [],
   "source": [
    "def backtrackingSearch(problem):\n",
    "    def findBest(state, path, cost, bestCost, bestPath):\n",
    "        if problem.isEnd(state):\n",
    "            if cost < bestCost:\n",
    "                bestCost = cost\n",
    "                bestPath = path\n",
    "            return bestCost, bestPath\n",
    "        for action, next_state, next_cost in edges(problem, state):\n",
    "            new_path = path + [(action, next_state, next_cost)]\n",
    "            new_cost = cost + next_cost\n",
    "            bestCost, bestPath = findBest(next_state, new_path, new_cost, bestCost, bestPath)\n",
    "        return bestCost, bestPath\n",
    "    initial_state = problem.initialState()\n",
    "    bestCost, bestPath = findBest(initial_state, [], 0, float('+inf'), None)\n",
    "    return bestCost, bestPath"
   ]
  },
  {
   "cell_type": "code",
   "execution_count": 95,
   "metadata": {},
   "outputs": [
    {
     "data": {
      "text/plain": [
       "(6,\n",
       " [('walk', 2, 1),\n",
       "  ('walk', 3, 1),\n",
       "  ('walk', 4, 1),\n",
       "  ('walk', 5, 1),\n",
       "  ('tram', 10, 2)])"
      ]
     },
     "execution_count": 95,
     "metadata": {},
     "output_type": "execute_result"
    }
   ],
   "source": [
    "backtrackingSearch(problem)"
   ]
  },
  {
   "attachments": {},
   "cell_type": "markdown",
   "metadata": {},
   "source": [
    "**Para la tarea:** Observa que tanto la implementación de `futureCosts` como de `dynamicProgramming` iteran sobre las aristas del estado actual. Programa una mejor implementación combinando las ideas de ambas funciones."
   ]
  },
  {
   "cell_type": "code",
   "execution_count": 96,
   "metadata": {},
   "outputs": [],
   "source": [
    "def dynamicProgramming(problem, C):\n",
    "    state = problem.initialState()\n",
    "    bestCost = C[state]\n",
    "    bestPath = []\n",
    "    while not problem.isEnd(state):\n",
    "        for action, next_state, next_cost in edges(problem, state):\n",
    "            if C[state] == next_cost + C[next_state]:\n",
    "                bestPath.append((action, next_state, next_cost))\n",
    "                state = next_state\n",
    "                break\n",
    "    return bestCost, bestPath\n",
    "\n",
    "\n",
    "def futureCosts(problem):\n",
    "    C = {}\n",
    "    def futureCost(state):\n",
    "        if state in C:\n",
    "            return C[state]\n",
    "        if problem.isEnd(state):\n",
    "            C[state] = 0\n",
    "        else:\n",
    "            C[state] = min(next_cost + futureCost(next_state)\n",
    "                           for action, next_state, next_cost\n",
    "                           in edges(problem, state))\n",
    "        return C[state]\n",
    "    futureCost(problem.initialState())\n",
    "    return C"
   ]
  },
  {
   "cell_type": "code",
   "execution_count": 101,
   "metadata": {},
   "outputs": [],
   "source": [
    "def dynamicProgrammingUpgrade(problem):\n",
    "    C = {}\n",
    "    bestPath = []\n",
    "\n",
    "    def futureCost(state):\n",
    "        if state in C:\n",
    "            return C[state]\n",
    "        if problem.isEnd(state):\n",
    "            C[state] = 0\n",
    "        else:\n",
    "            C[state] = min(next_cost + futureCost(next_state)\n",
    "                           for _, next_state, next_cost\n",
    "                           in edges(problem, state))\n",
    "        return C[state]\n",
    "\n",
    "    state = problem.initialState()\n",
    "    bestCost = futureCost(state)\n",
    "    bestPath = []\n",
    "    while not problem.isEnd(state):\n",
    "        for action, next_state, next_cost in edges(problem, state):\n",
    "            if C[state] == next_cost + C[next_state]:\n",
    "                bestPath.append((action, next_state, next_cost))\n",
    "                state = next_state\n",
    "                break\n",
    "    return bestCost, bestPath"
   ]
  },
  {
   "cell_type": "code",
   "execution_count": 102,
   "metadata": {},
   "outputs": [
    {
     "name": "stdout",
     "output_type": "stream",
     "text": [
      "(13, [('walk', 2, 1), ('walk', 3, 1), ('tram', 6, 2), ('tram', 12, 2), ('tram', 24, 2), ('walk', 25, 1), ('tram', 50, 2), ('tram', 100, 2)])\n",
      "\n",
      "9.89 ms ± 0 ns per loop (mean ± std. dev. of 1 run, 1 loop each)\n"
     ]
    }
   ],
   "source": [
    "%%timeit -r 1 -n 1\n",
    "print(dynamicProgrammingUpgrade(problem))\n",
    "print()"
   ]
  },
  {
   "attachments": {},
   "cell_type": "markdown",
   "metadata": {},
   "source": [
    "**Para la tarea:** ¿Por qué el algoritmo de Dijkstra no puede trabajar con pesos negativos? ¿Qué pasa si le sumamos a todos los pesos el peso mínimo de la gráfica? Presenta una gráfica dirigida ponderada en donde esta \"solución\" no funciona."
   ]
  },
  {
   "attachments": {},
   "cell_type": "markdown",
   "metadata": {},
   "source": [
    "Porque el algoritmo en cada paso escoge el nodo con el peso más pequeño, el más cercano, o el de menor costo. Si se tuvieran pesos negativos (en términos de distancia se podría decir que se retrocede) el algoritmo lo sigue considerando como un avance, y contabiliza esto en el total de la distancia, por lo tanto se llegaria a una distancia, coste, etc. mayor a la distancia optima. También se podría llegar a un bucle del que no se podría salir.\n",
    "\n",
    "Si le sumamos el peso minimo a una grafica obtendriamos un coste cero en donde estaba ese valor, el algoritmo seguiria tomando un camino con este nodo como el camino optivo (cuando en realidad puede que no lo sea)."
   ]
  }
 ],
 "metadata": {
  "kernelspec": {
   "display_name": "Python 3",
   "language": "python",
   "name": "python3"
  },
  "language_info": {
   "codemirror_mode": {
    "name": "ipython",
    "version": 3
   },
   "file_extension": ".py",
   "mimetype": "text/x-python",
   "name": "python",
   "nbconvert_exporter": "python",
   "pygments_lexer": "ipython3",
   "version": "3.11.0"
  },
  "orig_nbformat": 4,
  "vscode": {
   "interpreter": {
    "hash": "1919903c9faec2f6e0df9161b3e0a0a49ce793b595df90e5361716801939c9c2"
   }
  }
 },
 "nbformat": 4,
 "nbformat_minor": 2
}
