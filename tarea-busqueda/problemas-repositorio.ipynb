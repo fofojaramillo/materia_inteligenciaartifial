{
 "cells": [
  {
   "cell_type": "code",
   "execution_count": null,
   "metadata": {},
   "outputs": [],
   "source": []
  },
  {
   "attachments": {},
   "cell_type": "markdown",
   "metadata": {},
   "source": [
    "**Para la tarea:** Modela el juego de las torres de Hanói como un problema de búsqueda."
   ]
  },
  {
   "attachments": {},
   "cell_type": "markdown",
   "metadata": {},
   "source": [
    "Para las torres de Hanoi podemos pensar en cada disco siendo representado por una letra, siendo `A` el disco más grande, y `G` el más chico. A su ves pensando en `/` como el espacio entre cada disco.\n",
    "Así, el estado inicial: `ABCDEFG//`\n",
    "\n",
    "Conjunto de todas las acciones consiste en solo dos: [x>,x>>]\n",
    "La letra \"x\" representa a cualquier letra que se desee mover (por lo que en una escritura menos general serían 14 movimientos), mientras que \">\" y \">>\" representan el moverse a la primera torre vecina hacia la derecha y a la segunda respectivamente. Si el disco no tuviera vecino hacia la derecha, por ejemplo, si estuviera en la torre más a la derecha y tuviera la acción \"x>\" iría a la primer torre, si tuviera la accion \"x>>\" llegaría a la de enmedio, y así.\n",
    "\n",
    "El costo de cada acción será unitario.\n",
    "\n",
    "El sucesor al que se llega con cada acción sería una distribución de letras y diagonales un poco diferente, variando en una letra en cada caso. por ejemplo:\n",
    "\n",
    "`ABCDEFG//` $\\rightarrow$ `G>` $\\rightarrow$ `ABCDEF/G/`\n",
    "\n",
    "Se llega a un estado final cuando Todas las letras estan juntas y en orden alfabetico.\n",
    "***"
   ]
  },
  {
   "attachments": {},
   "cell_type": "markdown",
   "metadata": {},
   "source": [
    "**Para la tarea:** Escribe un programa de Python que genere un tablero de Sudoku resuelto de forma aleatoria de tamaño $9\\times9$.  No busques algoritmos para lograr esto, en su lugar, plantea una idea clave para resolver el problema y asegúrate que tu implementación sea lo más clara y entendible que puedas."
   ]
  },
  {
   "cell_type": "code",
   "execution_count": 6,
   "metadata": {},
   "outputs": [
    {
     "name": "stdout",
     "output_type": "stream",
     "text": [
      "[[0], [], [], [], [], [], [], [], []]\n"
     ]
    }
   ],
   "source": [
    "tablero=[[],[],[],[],[],[],[],[],[]]\n",
    "tablero[0].append(0)\n",
    "print(tablero)"
   ]
  },
  {
   "attachments": {},
   "cell_type": "markdown",
   "metadata": {},
   "source": [
    "**Para la tarea:** Escribe una implementación de `backtrackingSearch` que sea funcionalmente equivalente a la implementación de arriba sin utilizar variables fuera del ámbito local de una función."
   ]
  },
  {
   "attachments": {},
   "cell_type": "markdown",
   "metadata": {},
   "source": [
    "**Para la tarea:** Observa que tanto la implementación de `futureCosts` como de `dynamicProgramming` iteran sobre las aristas del estado actual. Programa una mejor implementación combinando las ideas de ambas funciones."
   ]
  },
  {
   "attachments": {},
   "cell_type": "markdown",
   "metadata": {},
   "source": [
    "**Para la tarea:** ¿Por qué el algoritmo de Dijkstra no puede trabajar con pesos negativos? ¿Qué pasa si le sumamos a todos los pesos el peso mínimo de la gráfica? Presenta una gráfica dirigida ponderada en donde esta \"solución\" no funciona."
   ]
  }
 ],
 "metadata": {
  "kernelspec": {
   "display_name": "Python 3",
   "language": "python",
   "name": "python3"
  },
  "language_info": {
   "codemirror_mode": {
    "name": "ipython",
    "version": 3
   },
   "file_extension": ".py",
   "mimetype": "text/x-python",
   "name": "python",
   "nbconvert_exporter": "python",
   "pygments_lexer": "ipython3",
   "version": "3.11.0"
  },
  "orig_nbformat": 4
 },
 "nbformat": 4,
 "nbformat_minor": 2
}
